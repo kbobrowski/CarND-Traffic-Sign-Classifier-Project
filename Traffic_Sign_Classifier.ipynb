{
 "cells": [
  {
   "cell_type": "markdown",
   "metadata": {},
   "source": [
    "# Self-Driving Car Engineer Nanodegree\n",
    "\n",
    "## Deep Learning\n",
    "\n",
    "## Project: Build a Traffic Sign Recognition Classifier\n",
    "\n",
    "In this notebook, a template is provided for you to implement your functionality in stages, which is required to successfully complete this project. If additional code is required that cannot be included in the notebook, be sure that the Python code is successfully imported and included in your submission if necessary. \n",
    "\n",
    "> **Note**: Once you have completed all of the code implementations, you need to finalize your work by exporting the iPython Notebook as an HTML document. Before exporting the notebook to html, all of the code cells need to have been run so that reviewers can see the final implementation and output. You can then export the notebook by using the menu above and navigating to  \\n\",\n",
    "    \"**File -> Download as -> HTML (.html)**. Include the finished document along with this notebook as your submission. \n",
    "\n",
    "In addition to implementing code, there is a writeup to complete. The writeup should be completed in a separate file, which can be either a markdown file or a pdf document. There is a [write up template](https://github.com/udacity/CarND-Traffic-Sign-Classifier-Project/blob/master/writeup_template.md) that can be used to guide the writing process. Completing the code template and writeup template will cover all of the [rubric points](https://review.udacity.com/#!/rubrics/481/view) for this project.\n",
    "\n",
    "The [rubric](https://review.udacity.com/#!/rubrics/481/view) contains \"Stand Out Suggestions\" for enhancing the project beyond the minimum requirements. The stand out suggestions are optional. If you decide to pursue the \"stand out suggestions\", you can include the code in this Ipython notebook and also discuss the results in the writeup file.\n",
    "\n",
    "\n",
    ">**Note:** Code and Markdown cells can be executed using the **Shift + Enter** keyboard shortcut. In addition, Markdown cells can be edited by typically double-clicking the cell to enter edit mode."
   ]
  },
  {
   "cell_type": "markdown",
   "metadata": {},
   "source": [
    "---\n",
    "## Step 0: Load The Data"
   ]
  },
  {
   "cell_type": "code",
   "execution_count": 7,
   "metadata": {
    "collapsed": true
   },
   "outputs": [],
   "source": [
    "# Load pickled data\n",
    "import pickle\n",
    "import numpy as np\n",
    "\n",
    "# TODO: Fill this in based on where you saved the training and testing data\n",
    "\n",
    "training_file = 'train.p'\n",
    "validation_file = 'valid.p'\n",
    "testing_file = 'test.p'\n",
    "\n",
    "with open(training_file, mode='rb') as f:\n",
    "    train = pickle.load(f)\n",
    "with open(validation_file, mode='rb') as f:\n",
    "    valid = pickle.load(f)\n",
    "with open(testing_file, mode='rb') as f:\n",
    "    test = pickle.load(f)\n",
    "    \n",
    "X_train_orig, y_train = train['features'], train['labels']\n",
    "X_valid_orig, y_valid = valid['features'], valid['labels']\n",
    "X_test_orig, y_test = test['features'], test['labels']"
   ]
  },
  {
   "cell_type": "markdown",
   "metadata": {},
   "source": [
    "---\n",
    "\n",
    "## Step 1: Dataset Summary & Exploration\n",
    "\n",
    "The pickled data is a dictionary with 4 key/value pairs:\n",
    "\n",
    "- `'features'` is a 4D array containing raw pixel data of the traffic sign images, (num examples, width, height, channels).\n",
    "- `'labels'` is a 1D array containing the label/class id of the traffic sign. The file `signnames.csv` contains id -> name mappings for each id.\n",
    "- `'sizes'` is a list containing tuples, (width, height) representing the original width and height the image.\n",
    "- `'coords'` is a list containing tuples, (x1, y1, x2, y2) representing coordinates of a bounding box around the sign in the image. **THESE COORDINATES ASSUME THE ORIGINAL IMAGE. THE PICKLED DATA CONTAINS RESIZED VERSIONS (32 by 32) OF THESE IMAGES**\n",
    "\n",
    "Complete the basic data summary below. Use python, numpy and/or pandas methods to calculate the data summary rather than hard coding the results. For example, the [pandas shape method](http://pandas.pydata.org/pandas-docs/stable/generated/pandas.DataFrame.shape.html) might be useful for calculating some of the summary results. "
   ]
  },
  {
   "cell_type": "markdown",
   "metadata": {},
   "source": [
    "### Provide a Basic Summary of the Data Set Using Python, Numpy and/or Pandas"
   ]
  },
  {
   "cell_type": "code",
   "execution_count": 8,
   "metadata": {},
   "outputs": [
    {
     "name": "stdout",
     "output_type": "stream",
     "text": [
      "Number of training examples = 34799\n",
      "Number of testing examples = 12630\n",
      "Image data shape = (32, 32)\n",
      "Number of classes = 43\n"
     ]
    }
   ],
   "source": [
    "### Replace each question mark with the appropriate value. \n",
    "### Use python, pandas or numpy methods rather than hard coding the results\n",
    "\n",
    "# TODO: Number of training examples\n",
    "n_train = X_train_orig.shape[0]\n",
    "\n",
    "# TODO: Number of validation examples\n",
    "n_validation = X_valid_orig.shape[0]\n",
    "\n",
    "# TODO: Number of testing examples.\n",
    "n_test = X_test_orig.shape[0]\n",
    "\n",
    "# TODO: What's the shape of an traffic sign image?\n",
    "image_shape = X_train_orig.shape[1:3]\n",
    "\n",
    "# TODO: How many unique classes/labels there are in the dataset.\n",
    "n_classes = len(set(y_train))\n",
    "\n",
    "print(\"Number of training examples =\", n_train)\n",
    "print(\"Number of testing examples =\", n_test)\n",
    "print(\"Image data shape =\", image_shape)\n",
    "print(\"Number of classes =\", n_classes)"
   ]
  },
  {
   "cell_type": "markdown",
   "metadata": {},
   "source": [
    "### Include an exploratory visualization of the dataset"
   ]
  },
  {
   "cell_type": "markdown",
   "metadata": {},
   "source": [
    "Visualize the German Traffic Signs Dataset using the pickled file(s). This is open ended, suggestions include: plotting traffic sign images, plotting the count of each sign, etc. \n",
    "\n",
    "The [Matplotlib](http://matplotlib.org/) [examples](http://matplotlib.org/examples/index.html) and [gallery](http://matplotlib.org/gallery.html) pages are a great resource for doing visualizations in Python.\n",
    "\n",
    "**NOTE:** It's recommended you start with something simple first. If you wish to do more, come back to it after you've completed the rest of the sections. It can be interesting to look at the distribution of classes in the training, validation and test set. Is the distribution the same? Are there more examples of some classes than others?"
   ]
  },
  {
   "cell_type": "code",
   "execution_count": 9,
   "metadata": {},
   "outputs": [
    {
     "data": {
      "text/plain": [
       "<matplotlib.image.AxesImage at 0x7f8ef162f048>"
      ]
     },
     "execution_count": 9,
     "metadata": {},
     "output_type": "execute_result"
    },
    {
     "data": {
      "image/png": "[encoded data removed]",
      "text/plain": [
       "<matplotlib.figure.Figure at 0x7f8ef17e8438>"
      ]
     },
     "metadata": {},
     "output_type": "display_data"
    }
   ],
   "source": [
    "### Data exploration visualization code goes here.\n",
    "### Feel free to use as many code cells as needed.\n",
    "import matplotlib.pyplot as plt\n",
    "from scipy.misc import imresize\n",
    "# Visualizations will be shown in the notebook.\n",
    "%matplotlib inline\n",
    "from random import randint\n",
    "i = randint(0, X_test_orig.shape[0])\n",
    "plt.imshow(X_test_orig[i])"
   ]
  },
  {
   "cell_type": "markdown",
   "metadata": {},
   "source": [
    "----\n",
    "\n",
    "## Step 2: Design and Test a Model Architecture\n",
    "\n",
    "Design and implement a deep learning model that learns to recognize traffic signs. Train and test your model on the [German Traffic Sign Dataset](http://benchmark.ini.rub.de/?section=gtsrb&subsection=dataset).\n",
    "\n",
    "The LeNet-5 implementation shown in the [classroom](https://classroom.udacity.com/nanodegrees/nd013/parts/fbf77062-5703-404e-b60c-95b78b2f3f9e/modules/6df7ae49-c61c-4bb2-a23e-6527e69209ec/lessons/601ae704-1035-4287-8b11-e2c2716217ad/concepts/d4aca031-508f-4e0b-b493-e7b706120f81) at the end of the CNN lesson is a solid starting point. You'll have to change the number of classes and possibly the preprocessing, but aside from that it's plug and play! \n",
    "\n",
    "With the LeNet-5 solution from the lecture, you should expect a validation set accuracy of about 0.89. To meet specifications, the validation set accuracy will need to be at least 0.93. It is possible to get an even higher accuracy, but 0.93 is the minimum for a successful project submission. \n",
    "\n",
    "There are various aspects to consider when thinking about this problem:\n",
    "\n",
    "- Neural network architecture (is the network over or underfitting?)\n",
    "- Play around preprocessing techniques (normalization, rgb to grayscale, etc)\n",
    "- Number of examples per label (some have more than others).\n",
    "- Generate fake data.\n",
    "\n",
    "Here is an example of a [published baseline model on this problem](http://yann.lecun.com/exdb/publis/pdf/sermanet-ijcnn-11.pdf). It's not required to be familiar with the approach used in the paper but, it's good practice to try to read papers like these."
   ]
  },
  {
   "cell_type": "markdown",
   "metadata": {},
   "source": [
    "### Pre-process the Data Set (normalization, grayscale, etc.)"
   ]
  },
  {
   "cell_type": "markdown",
   "metadata": {},
   "source": [
    "Minimally, the image data should be normalized so that the data has mean zero and equal variance. For image data, `(pixel - 128)/ 128` is a quick way to approximately normalize the data and can be used in this project. \n",
    "\n",
    "Other pre-processing steps are optional. You can try different techniques to see if it improves performance. \n",
    "\n",
    "Use the code cell (or multiple code cells, if necessary) to implement the first step of your project."
   ]
  },
  {
   "cell_type": "code",
   "execution_count": 10,
   "metadata": {
    "collapsed": true
   },
   "outputs": [],
   "source": [
    "def get_rgb(image):\n",
    "    if image.shape[-1] == 3: return (image*128+128).astype(np.uint8)\n",
    "    elif image.shape[-1] == 1: return (np.concatenate([image]*3, axis=-1)*128+128).astype(np.uint8)"
   ]
  },
  {
   "cell_type": "code",
   "execution_count": 11,
   "metadata": {},
   "outputs": [
    {
     "data": {
      "image/png": "[encoded data removed]",
      "text/plain": [
       "<matplotlib.figure.Figure at 0x7f8ef16decc0>"
      ]
     },
     "metadata": {},
     "output_type": "display_data"
    }
   ],
   "source": [
    "### Preprocess the data here. It is required to normalize the data. Other preprocessing steps could include \n",
    "### converting to grayscale, etc.\n",
    "### Feel free to use as many code cells as needed.\n",
    "\n",
    "import numpy as np\n",
    "from scipy.misc import imresize\n",
    "import cv2\n",
    "import matplotlib as mpl\n",
    "\n",
    "%matplotlib inline\n",
    "\n",
    "def normalize1(image):\n",
    "    return (image.astype(np.float32)-128)/128.\n",
    "\n",
    "def normalize2(image):\n",
    "    ret = np.zeros((image.shape[0], 32, 32, 1), dtype=np.float32)\n",
    "    for i,img in enumerate(image):\n",
    "        ret[i,:,:,0] = cv2.equalizeHist(cv2.cvtColor(img, cv2.COLOR_BGR2GRAY))\n",
    "    return (ret-128)/128.\n",
    "\n",
    "def normalize3(images):\n",
    "    ret = np.zeros((images.shape[0], 32, 32, 3), dtype=np.uint8)\n",
    "    for i,image in enumerate(images):\n",
    "        image_yuv = cv2.cvtColor(image, cv2.COLOR_BGR2YUV)\n",
    "        image_yuv[:,:,0] = cv2.equalizeHist(image_yuv[:,:,0])\n",
    "        ret[i] = cv2.cvtColor(image_yuv, cv2.COLOR_YUV2BGR)\n",
    "    return (ret.astype(np.float32)-128)/128.\n",
    "    \n",
    "X_train_norm2 = normalize2(X_train_orig)\n",
    "X_train_norm3 = normalize3(X_train_orig)\n",
    "\n",
    "randimg = []\n",
    "for j in range(5):\n",
    "    i = randint(0, X_train_orig.shape[0])\n",
    "    randimg.append(np.vstack((X_train_orig[i], get_rgb(X_train_norm2[i]), get_rgb(X_train_norm3[i]))))\n",
    "plt.imshow(np.hstack(randimg))\n",
    "plt.imsave('examples/normalized.png', np.hstack(randimg))"
   ]
  },
  {
   "cell_type": "code",
   "execution_count": 13,
   "metadata": {},
   "outputs": [
    {
     "data": {
      "image/png": "[encoded data removed]",
      "text/plain": [
       "<matplotlib.figure.Figure at 0x7f8f12620f28>"
      ]
     },
     "metadata": {},
     "output_type": "display_data"
    }
   ],
   "source": [
    "\n",
    "from random import randint, uniform\n",
    "import cv2\n",
    "%matplotlib inline\n",
    "def augment(images):\n",
    "    ret = images.copy()\n",
    "    shape = images.shape[1:3]\n",
    "    for i, image in enumerate(images):\n",
    "        tx = randint(-3, 3)\n",
    "        ty = randint(-3, 3)\n",
    "        angle = uniform(-5.0, 5.0)\n",
    "        scale = uniform(0.9, 1.1)\n",
    "        Mt = np.float32([[1,0,tx],[0,1,ty]])\n",
    "        Mr = cv2.getRotationMatrix2D(tuple(np.array(shape).astype(np.float32)/2.), angle, scale)\n",
    "        rotated = cv2.warpAffine(image, Mr, shape)\n",
    "        shifted = cv2.warpAffine(rotated, Mt, shape)\n",
    "        ret[i] = np.atleast_3d(shifted)\n",
    "    return ret\n",
    "   \n",
    "i = np.random.randint(0, X_train_orig.shape[0], size=5)\n",
    "augmented = augment(X_train_norm3[i])\n",
    "randimg = []\n",
    "for j, augimg in zip(i, augmented):\n",
    "    randimg.append(np.vstack((get_rgb(X_train_norm3[j]), get_rgb(augimg))))\n",
    "img = np.hstack(randimg).astype(np.uint8)\n",
    "plt.imshow(img)\n",
    "plt.imsave('examples/augmented.png', img)"
   ]
  },
  {
   "cell_type": "markdown",
   "metadata": {},
   "source": [
    "### Model Architecture"
   ]
  },
  {
   "cell_type": "code",
   "execution_count": null,
   "metadata": {
    "collapsed": true
   },
   "outputs": [],
   "source": [
    "from functools import reduce\n",
    "import tensorflow as tf\n",
    "\n",
    "def maxout(inputs, num_units=2, axis=None):\n",
    "    \"\"\"\n",
    "    from: tensorflow PR 5528\n",
    "    \"\"\"\n",
    "    shape = inputs.get_shape().as_list()\n",
    "    if axis is None:\n",
    "        # Assume that channel is the last dimension\n",
    "        axis = -1\n",
    "    num_channels = shape[axis]\n",
    "    if num_channels % num_units:\n",
    "        raise ValueError('number of features({}) is not a multiple of num_units({})'\n",
    "             .format(num_channels, num_units))\n",
    "    shape[axis] = -1\n",
    "    shape += [num_channels // num_units]\n",
    "    outputs = tf.reduce_max(tf.reshape(inputs, shape), -1, keep_dims=False)\n",
    "    return outputs\n",
    "\n",
    "class GenericNet(object):\n",
    "    def __init__(self, prefix, x, **kwargs):\n",
    "        self.layers = [x]\n",
    "        self.stddev = kwargs.get('stddev', 0.1)\n",
    "        self.activation = kwargs.get('activation', tf.nn.relu)\n",
    "        self.keep_prob = kwargs.get('keep_prob', None)\n",
    "        self.do_print = kwargs.get('do_print', False)\n",
    "        self.prefix = prefix\n",
    "        self.variables = []\n",
    "        self.print_current_layer()\n",
    "        \n",
    "    def print_current_layer(self):\n",
    "        shape = self.layers[-1].shape\n",
    "        size = reduce((lambda x,y: x*y), map(int, shape[1:]))\n",
    "        if self.do_print: print('layer {:>2}, shape: {:>17}, size: {:>8}'.format(len(self.layers), str(shape), size))\n",
    "        \n",
    "    def add_conv(self, size, depth, **kwargs):\n",
    "        activation = self.activation or kwargs.get('activation', tf.nn.relu)\n",
    "        keep_prob = self.keep_prob if self.keep_prob is not None else kwargs.get('keep_prob', None)\n",
    "        \n",
    "        stride = kwargs.get('stride', 1)\n",
    "        padding = kwargs.get('padding', 'VALID')\n",
    "        poolSize = kwargs.get('poolSize', None)\n",
    "        poolPadding = kwargs.get('poolPadding', 'VALID')\n",
    "        \n",
    "        prev_depth = int(self.layers[-1].shape[-1])\n",
    "        filterPars = [size, size, prev_depth, depth]\n",
    "        conv_W = tf.Variable(tf.truncated_normal(filterPars, stddev=self.stddev), name='{}_conv_W_{}'.format(self.prefix, len(self.layers)+1))\n",
    "        conv_b = tf.Variable(tf.zeros(depth), name='{}_conv_b_{}'.format(self.prefix, len(self.layers)+1))\n",
    "        self.variables.append(conv_W)\n",
    "        self.variables.append(conv_b)\n",
    "        conv = tf.nn.conv2d(self.layers[-1], conv_W, strides=[1,stride,stride,1], padding=padding) + conv_b\n",
    "        conv = activation(conv)\n",
    "        if poolSize:\n",
    "            conv = tf.nn.max_pool(conv, ksize=[1,poolSize,poolSize,1], strides=[1,poolSize,poolSize,1], padding=poolPadding)\n",
    "        if keep_prob is not None:\n",
    "            conv = tf.nn.dropout(conv, keep_prob)\n",
    "        self.layers.append(conv)\n",
    "        self.print_current_layer()\n",
    "        \n",
    "    def add_fc(self, size, **kwargs):\n",
    "        activation = self.activation or kwargs.get('activation', tf.nn.relu)\n",
    "        keep_prob = self.keep_prob if self.keep_prob is not None else kwargs.get('keep_prob', None)\n",
    "        final_layer = kwargs.get('final_layer', False)\n",
    "        \n",
    "        if len(self.layers[-1].shape) > 2:\n",
    "            flat = tf.contrib.layers.flatten(self.layers[-1])\n",
    "            self.layers.append(flat)\n",
    "        prev_size = int(self.layers[-1].shape[-1])\n",
    "        fc_W = tf.Variable(tf.truncated_normal([prev_size,size], stddev=self.stddev), name='{}_fc_W_{}'.format(self.prefix, len(self.layers)+1))\n",
    "        fc_b = tf.Variable(tf.zeros(size), name='{}_fc_b_{}'.format(self.prefix, len(self.layers)+1))\n",
    "        self.variables.append(fc_W)\n",
    "        self.variables.append(fc_b)\n",
    "        fc = tf.matmul(self.layers[-1], fc_W) + fc_b\n",
    "        if final_layer:\n",
    "            self.layers.append(fc)\n",
    "            self.print_current_layer()\n",
    "            return\n",
    "        fc = activation(fc)\n",
    "        if keep_prob is not None:\n",
    "            fc = tf.nn.dropout(fc, keep_prob)\n",
    "        self.layers.append(fc)\n",
    "        self.print_current_layer()\n",
    "        \n",
    "    def get_logits(self, size, **kwargs):\n",
    "        self.add_fc(size, final_layer=True, **kwargs)\n",
    "        return self.layers[-1]\n",
    "    \n",
    "nets = []\n",
    "    \n",
    "def LeNet(x, **kwargs):\n",
    "    name = 'LeNet'\n",
    "    print(name)\n",
    "    net = GenericNet(name, x, do_print=True)\n",
    "    net.add_conv(5, 6, poolSize=2)\n",
    "    net.add_conv(5, 16, poolSize=2)\n",
    "    net.add_fc(120)\n",
    "    net.add_fc(84)\n",
    "    return net.get_logits(n_classes)\n",
    "\n",
    "nets.append({'logits_function': LeNet, 'name': 'Original_LeNet'})\n",
    "\n",
    "def LeNet_dropout(x, **kwargs):\n",
    "    name = 'LeNetDropout'\n",
    "    print(name)\n",
    "    net = GenericNet(name, x, keep_prob=kwargs.get('keep_prob'), do_print=True)\n",
    "    net.add_conv(5, 6, poolSize=2)\n",
    "    net.add_conv(5, 16, poolSize=2)\n",
    "    net.add_fc(120)\n",
    "    net.add_fc(84)\n",
    "    return net.get_logits(n_classes, keep_prob=None)\n",
    "\n",
    "nets.append({'logits_function': LeNet_dropout, 'name': 'LeNet_with_dropout'})\n",
    "\n",
    "def DeepNet(x, **kwargs):\n",
    "    name = 'DeepNet'\n",
    "    #print(name)\n",
    "    net = GenericNet(name, x, keep_prob=kwargs.get('keep_prob'), do_print=False)\n",
    "    net.add_conv(7, 96)\n",
    "    net.add_conv(5, 128, poolSize=2)\n",
    "    net.add_conv(4, 256, poolSize=2)\n",
    "    net.add_fc(352)\n",
    "    net.add_fc(128)\n",
    "    return net.get_logits(n_classes, keep_prob=None), net.variables\n",
    "\n",
    "nets.append({'logits_function': DeepNet, 'name': 'DeepNet'})\n"
   ]
  },
  {
   "cell_type": "markdown",
   "metadata": {},
   "source": [
    "A validation set can be used to assess how well the model is performing. A low accuracy on the training and validation\n",
    "sets imply underfitting. A high accuracy on the training set but low accuracy on the validation set implies overfitting."
   ]
  },
  {
   "cell_type": "code",
   "execution_count": null,
   "metadata": {
    "collapsed": true
   },
   "outputs": [],
   "source": [
    "### Train your model here.\n",
    "### Calculate and report the accuracy on the training and validation set.\n",
    "### Once a final model architecture is selected, \n",
    "### the accuracy on the test set should be calculated and reported as well.\n",
    "### Feel free to use as many code cells as needed.\n",
    "\n",
    "import tensorflow as tf\n",
    "from sklearn.utils import shuffle\n",
    "from tqdm import tqdm\n",
    "\n",
    "EPOCHS = 30\n",
    "BATCH_SIZE = 256\n",
    "\n",
    "def batches(x, y, batch_size):\n",
    "    for offset in range(0, len(x), batch_size):\n",
    "        end = offset + batch_size\n",
    "        yield x[offset:end], y[offset:end]\n",
    "        \n",
    "def evaluate(X_data, y_data):\n",
    "    num_examples = len(X_data)\n",
    "    total_accuracy = 0\n",
    "    sess = tf.get_default_session()\n",
    "    for batch_x, batch_y in batches(X_data, y_data, BATCH_SIZE):\n",
    "        accuracy = sess.run(accuracy_operation, feed_dict={x: batch_x, y: batch_y, keep_prob: 1.0})\n",
    "        total_accuracy += (accuracy * len(batch_x))\n",
    "    return total_accuracy / num_examples\n",
    "\n",
    "%matplotlib notebook\n",
    "import matplotlib as mpl\n",
    "mpl.rcParams['figure.figsize'] = (12,8)\n",
    "\n",
    "def dynplot(ax, x_list, y_list):\n",
    "    x = np.linspace(0,1,100)\n",
    "    if ax.lines:\n",
    "        for i, line in enumerate(ax.lines):\n",
    "            line.set_xdata(x_list[i])\n",
    "            line.set_ydata(y_list[i])\n",
    "    else:\n",
    "        for i in range(len(x_list)):\n",
    "            ax.plot(x_list[i], y_list[i])\n",
    "    fig.canvas.draw()\n",
    "\n",
    "#selected_nets = [net for net in nets if net['name'] in ['LeNet_partial_pool']]\n",
    "net = nets[2]\n",
    "normalize = normalize2\n",
    "suffix = 'norm2_2'\n",
    "\n",
    "tf.reset_default_graph()\n",
    "X_train = normalize(X_train_orig)\n",
    "X_valid = normalize(X_valid_orig)\n",
    "\n",
    "x = tf.placeholder(tf.float32, [None, 32, 32, X_train.shape[-1]])\n",
    "y = tf.placeholder(tf.int32, [None])\n",
    "keep_prob = tf.placeholder(tf.float32)\n",
    "one_hot_y = tf.one_hot(y, n_classes)\n",
    "\n",
    "logits, variables = net['logits_function'](x, keep_prob=keep_prob)\n",
    "cross_entropy = tf.nn.softmax_cross_entropy_with_logits(labels=one_hot_y, logits=logits)\n",
    "loss = tf.reduce_mean(cross_entropy)\n",
    "training_operation = tf.train.AdamOptimizer().minimize(loss)\n",
    "correct_predictions = tf.equal(tf.argmax(logits, 1), tf.argmax(one_hot_y, 1))\n",
    "accuracy_operation = tf.reduce_mean(tf.cast(correct_predictions, tf.float32))\n",
    "saver = tf.train.Saver(variables)    \n",
    "valid_history = []\n",
    "train_history = []\n",
    "name = '{}_{}'.format(net['name'], suffix)"
   ]
  },
  {
   "cell_type": "code",
   "execution_count": null,
   "metadata": {
    "scrolled": false
   },
   "outputs": [],
   "source": [
    "with tf.Session() as sess:\n",
    "    sess.run(tf.global_variables_initializer())\n",
    "    num_examples = len(X_train)\n",
    "    fig, ax = plt.subplots(1, 1)\n",
    "    ax.set_xlim(0,EPOCHS)\n",
    "    ax.set_ylim(0.0, 1.01)\n",
    "    ax.grid()\n",
    "    #for i in tqdm(range(EPOCHS), unit='epoch'):\n",
    "    for i in range(EPOCHS):\n",
    "        X_train, y_train = shuffle(X_train, y_train)\n",
    "        augX_train = augment(X_train)\n",
    "        for batch_x, batch_y in batches(augX_train, y_train, BATCH_SIZE):\n",
    "            sess.run(training_operation, feed_dict={x: batch_x, y: batch_y, keep_prob: 0.8})\n",
    "        valid_history.append(evaluate(X_valid, y_valid))\n",
    "        train_history.append(evaluate(X_train, y_train))\n",
    "        dynplot(ax, [range(len(valid_history))]*2, [valid_history, train_history])\n",
    "        if train_history[-1] > 0.9:\n",
    "            ax.set_ylim(0.9, 1.01)\n",
    "    saver.save(sess, './{}.ckpt'.format(name))\n",
    "np.save('valid_history_{}.npy'.format(name), valid_history)\n",
    "np.save('train_history_{}.npy'.format(name), train_history)"
   ]
  },
  {
   "cell_type": "code",
   "execution_count": null,
   "metadata": {},
   "outputs": [],
   "source": [
    "import matplotlib as mpl\n",
    "%matplotlib inline\n",
    "from pprint import pprint\n",
    "mpl.rcParams['figure.figsize'] = (16,10)\n",
    "colors = 'cmykrgb'\n",
    "nameList = ['Original_LeNet', 'LeNet_with_dropout_0.7', 'DeepNet_norm2', 'DeepNet_norm3'] \n",
    "for i,name in enumerate(nameList):\n",
    "    valid_history = np.load('valid_history_{}.npy'.format(name))\n",
    "    train_history = np.load('train_history_{}.npy'.format(name))\n",
    "    plt.plot(valid_history, label=name+' (validation)', color=colors[i])\n",
    "    plt.plot(train_history, label=name+' (training)', color=colors[i], linestyle='--')\n",
    "    #if i == 2: pprint(valid_history)\n",
    "plt.grid()\n",
    "plt.ylim([0.8,1.01])\n",
    "plt.xlim([0,29])\n",
    "plt.legend()\n",
    "plt.show()"
   ]
  },
  {
   "cell_type": "code",
   "execution_count": null,
   "metadata": {},
   "outputs": [],
   "source": [
    "\n",
    "import tensorflow as tf\n",
    "\n",
    "net = nets[2]\n",
    "\n",
    "def get_logits(X_data, weights):\n",
    "    partial_logits = []\n",
    "    #for normalize, suffix in [[normalize3, 'norm3']]:\n",
    "    for normalize, suffix in zip([normalize2, normalize3], ['norm2', 'norm3']):\n",
    "    #for normalize, suffix in zip([normalize2, normalize3]*3, ['norm2', 'norm3', 'norm2_1', 'norm3_1', 'norm2_2', 'norm3_2']):\n",
    "        name = '{}_{}'.format(net['name'], suffix)\n",
    "\n",
    "        tf.reset_default_graph()\n",
    "        X_normalized = normalize(X_data)\n",
    "\n",
    "        x = tf.placeholder(tf.float32, [None, 32, 32, X_normalized.shape[-1]])\n",
    "        y = tf.placeholder(tf.int32, [None])\n",
    "        keep_prob = tf.placeholder(tf.float32)\n",
    "        logits, variables = net['logits_function'](x, keep_prob=1.0)\n",
    "        saver = tf.train.Saver(variables)    \n",
    "\n",
    "        with tf.Session() as sess:\n",
    "            saver.restore(sess, './{}.ckpt'.format(name))\n",
    "            partial_logits.append(sess.run(logits, feed_dict={x: X_normalized, keep_prob: 1.0}))\n",
    "            \n",
    "    partial_logits = np.concatenate([arr[..., np.newaxis] for arr in partial_logits], axis=-1)\n",
    "    return partial_logits.dot(weights)\n",
    "            \n",
    "    average_logits = sum(partial_logits).astype(np.float32)/len(partial_logits)\n",
    "    return average_logits\n",
    "\n",
    "if True:\n",
    "    BATCH_SIZE = 256\n",
    "    def batches(x, y, batch_size):\n",
    "        for offset in range(0, len(x), batch_size):\n",
    "            end = offset + batch_size\n",
    "            yield x[offset:end], y[offset:end]\n",
    "\n",
    "    num_examples = len(X_test_orig)\n",
    "    total_accuracy = 0\n",
    "    for batch_x, batch_y in batches(X_test_orig, y_test, BATCH_SIZE):\n",
    "        batch_logits = get_logits(batch_x, np.array([0.5,0.5]))\n",
    "        model_predictions = np.argmax(batch_logits, axis=1)\n",
    "        with tf.Session() as sess:\n",
    "            correct_predictions = sess.run(tf.argmax(tf.one_hot(batch_y, n_classes), 1))\n",
    "        accuracy = (model_predictions == correct_predictions).astype(np.float32).mean()\n",
    "        total_accuracy += (accuracy * len(batch_x))\n",
    "    print(total_accuracy / num_examples)"
   ]
  },
  {
   "cell_type": "code",
   "execution_count": null,
   "metadata": {},
   "outputs": [],
   "source": [
    "X_data, y_data = shuffle(X_test_orig, y_test)\n",
    "X_data = X_data[:6000]\n",
    "y_data = y_data[:6000]\n",
    "\n",
    "X_data = X_valid_orig\n",
    "y_data = y_valid\n",
    "\n",
    "def objective(weight1):\n",
    "    weights = np.array([weight1, 1-weight1])\n",
    "    logits = get_logits(X_data, weights)\n",
    "    predictions = np.argmax(logits, axis=1)\n",
    "    cross_entropy = tf.nn.softmax_cross_entropy_with_logits(labels=tf.one_hot(y_data, n_classes), logits=logits)\n",
    "    loss = tf.reduce_mean(cross_entropy)\n",
    "    with tf.Session() as sess:\n",
    "        obj = sess.run(loss)\n",
    "        correct_predictions = sess.run(tf.argmax(tf.one_hot(y_data, n_classes), 1))\n",
    "    accuracy = (predictions == correct_predictions).astype(np.float32).mean()\n",
    "    print(weights, weights.sum(), obj, accuracy)\n",
    "    return obj\n",
    "\n",
    "from scipy.optimize import minimize, fminbound\n",
    "\n",
    "result = fminbound(objective, 0, 1)"
   ]
  },
  {
   "cell_type": "markdown",
   "metadata": {},
   "source": [
    "---\n",
    "\n",
    "## Step 3: Test a Model on New Images\n",
    "\n",
    "To give yourself more insight into how your model is working, download at least five pictures of German traffic signs from the web and use your model to predict the traffic sign type.\n",
    "\n",
    "You may find `signnames.csv` useful as it contains mappings from the class id (integer) to the actual sign namea"
   ]
  },
  {
   "cell_type": "markdown",
   "metadata": {},
   "source": [
    "### Load and Output the Images"
   ]
  },
  {
   "cell_type": "code",
   "execution_count": null,
   "metadata": {},
   "outputs": [],
   "source": [
    "from glob import glob\n",
    "import matplotlib.image as mpimg\n",
    "\n",
    "%matplotlib inline\n",
    "filenames = glob('test_signs_web/Capture*')\n",
    "images = []\n",
    "for filename in filenames:\n",
    "    images.append(imresize(mpimg.imread(filename)[:,:,:3], [32,32])[np.newaxis,:,:,:])\n",
    "images = np.concatenate(images)\n",
    "plt.imshow(np.hstack([img for img in images]))"
   ]
  },
  {
   "cell_type": "markdown",
   "metadata": {},
   "source": [
    "### Predict the Sign Type for Each Image"
   ]
  },
  {
   "cell_type": "code",
   "execution_count": null,
   "metadata": {},
   "outputs": [],
   "source": [
    "### Run the predictions here and use the model to output the prediction for each image.\n",
    "### Make sure to pre-process the images with the same pre-processing pipeline used earlier.\n",
    "### Feel free to use as many code cells as needed.\n",
    "\n",
    "logits = get_logits(images)\n",
    "print(np.argmax(logits, axis=1))"
   ]
  },
  {
   "cell_type": "markdown",
   "metadata": {},
   "source": [
    "### Analyze Performance"
   ]
  },
  {
   "cell_type": "code",
   "execution_count": null,
   "metadata": {
    "collapsed": true
   },
   "outputs": [],
   "source": [
    "### Calculate the accuracy for these 5 new images. \n",
    "### For example, if the model predicted 1 out of 5 signs correctly, it's 20% accurate on these new images.\n",
    "\n"
   ]
  },
  {
   "cell_type": "markdown",
   "metadata": {},
   "source": [
    "### Output Top 5 Softmax Probabilities For Each Image Found on the Web"
   ]
  },
  {
   "cell_type": "markdown",
   "metadata": {},
   "source": [
    "For each of the new images, print out the model's softmax probabilities to show the **certainty** of the model's predictions (limit the output to the top 5 probabilities for each image). [`tf.nn.top_k`](https://www.tensorflow.org/versions/r0.12/api_docs/python/nn.html#top_k) could prove helpful here. \n",
    "\n",
    "The example below demonstrates how tf.nn.top_k can be used to find the top k predictions for each image.\n",
    "\n",
    "`tf.nn.top_k` will return the values and indices (class ids) of the top k predictions. So if k=3, for each sign, it'll return the 3 largest probabilities (out of a possible 43) and the correspoding class ids.\n",
    "\n",
    "Take this numpy array as an example. The values in the array represent predictions. The array contains softmax probabilities for five candidate images with six possible classes. `tf.nn.top_k` is used to choose the three classes with the highest probability:\n",
    "\n",
    "```\n",
    "# (5, 6) array\n",
    "a = np.array([[ 0.24879643,  0.07032244,  0.12641572,  0.34763842,  0.07893497,\n",
    "         0.12789202],\n",
    "       [ 0.28086119,  0.27569815,  0.08594638,  0.0178669 ,  0.18063401,\n",
    "         0.15899337],\n",
    "       [ 0.26076848,  0.23664738,  0.08020603,  0.07001922,  0.1134371 ,\n",
    "         0.23892179],\n",
    "       [ 0.11943333,  0.29198961,  0.02605103,  0.26234032,  0.1351348 ,\n",
    "         0.16505091],\n",
    "       [ 0.09561176,  0.34396535,  0.0643941 ,  0.16240774,  0.24206137,\n",
    "         0.09155967]])\n",
    "```\n",
    "\n",
    "Running it through `sess.run(tf.nn.top_k(tf.constant(a), k=3))` produces:\n",
    "\n",
    "```\n",
    "TopKV2(values=array([[ 0.34763842,  0.24879643,  0.12789202],\n",
    "       [ 0.28086119,  0.27569815,  0.18063401],\n",
    "       [ 0.26076848,  0.23892179,  0.23664738],\n",
    "       [ 0.29198961,  0.26234032,  0.16505091],\n",
    "       [ 0.34396535,  0.24206137,  0.16240774]]), indices=array([[3, 0, 5],\n",
    "       [0, 1, 4],\n",
    "       [0, 5, 1],\n",
    "       [1, 3, 5],\n",
    "       [1, 4, 3]], dtype=int32))\n",
    "```\n",
    "\n",
    "Looking just at the first row we get `[ 0.34763842,  0.24879643,  0.12789202]`, you can confirm these are the 3 largest probabilities in `a`. You'll also notice `[3, 0, 5]` are the corresponding indices."
   ]
  },
  {
   "cell_type": "code",
   "execution_count": null,
   "metadata": {},
   "outputs": [],
   "source": [
    "### Print out the top five softmax probabilities for the predictions on the German traffic sign images found on the web. \n",
    "### Feel free to use as many code cells as needed.\n",
    "with tf.Session() as sess:\n",
    "    top5 = sess.run(tf.nn.top_k(tf.nn.softmax(logits), k=5))\n",
    "    print(top5)"
   ]
  },
  {
   "cell_type": "markdown",
   "metadata": {},
   "source": [
    "### Project Writeup\n",
    "\n",
    "Once you have completed the code implementation, document your results in a project writeup using this [template](https://github.com/udacity/CarND-Traffic-Sign-Classifier-Project/blob/master/writeup_template.md) as a guide. The writeup can be in a markdown or pdf file. "
   ]
  },
  {
   "cell_type": "markdown",
   "metadata": {},
   "source": [
    "> **Note**: Once you have completed all of the code implementations and successfully answered each question above, you may finalize your work by exporting the iPython Notebook as an HTML document. You can do this by using the menu above and navigating to  \\n\",\n",
    "    \"**File -> Download as -> HTML (.html)**. Include the finished document along with this notebook as your submission."
   ]
  },
  {
   "cell_type": "markdown",
   "metadata": {},
   "source": [
    "---\n",
    "\n",
    "## Step 4 (Optional): Visualize the Neural Network's State with Test Images\n",
    "\n",
    " This Section is not required to complete but acts as an additional excersise for understaning the output of a neural network's weights. While neural networks can be a great learning device they are often referred to as a black box. We can understand what the weights of a neural network look like better by plotting their feature maps. After successfully training your neural network you can see what it's feature maps look like by plotting the output of the network's weight layers in response to a test stimuli image. From these plotted feature maps, it's possible to see what characteristics of an image the network finds interesting. For a sign, maybe the inner network feature maps react with high activation to the sign's boundary outline or to the contrast in the sign's painted symbol.\n",
    "\n",
    " Provided for you below is the function code that allows you to get the visualization output of any tensorflow weight layer you want. The inputs to the function should be a stimuli image, one used during training or a new one you provided, and then the tensorflow variable name that represents the layer's state during the training process, for instance if you wanted to see what the [LeNet lab's](https://classroom.udacity.com/nanodegrees/nd013/parts/fbf77062-5703-404e-b60c-95b78b2f3f9e/modules/6df7ae49-c61c-4bb2-a23e-6527e69209ec/lessons/601ae704-1035-4287-8b11-e2c2716217ad/concepts/d4aca031-508f-4e0b-b493-e7b706120f81) feature maps looked like for it's second convolutional layer you could enter conv2 as the tf_activation variable.\n",
    "\n",
    "For an example of what feature map outputs look like, check out NVIDIA's results in their paper [End-to-End Deep Learning for Self-Driving Cars](https://devblogs.nvidia.com/parallelforall/deep-learning-self-driving-cars/) in the section Visualization of internal CNN State. NVIDIA was able to show that their network's inner weights had high activations to road boundary lines by comparing feature maps from an image with a clear path to one without. Try experimenting with a similar test to show that your trained network's weights are looking for interesting features, whether it's looking at differences in feature maps from images with or without a sign, or even what feature maps look like in a trained network vs a completely untrained one on the same sign image.\n",
    "\n",
    "<figure>\n",
    " <img src=\"visualize_cnn.png\" width=\"380\" alt=\"Combined Image\" />\n",
    " <figcaption>\n",
    " <p></p> \n",
    " <p style=\"text-align: center;\"> Your output should look something like this (above)</p> \n",
    " </figcaption>\n",
    "</figure>\n",
    " <p></p> \n"
   ]
  },
  {
   "cell_type": "code",
   "execution_count": null,
   "metadata": {
    "collapsed": true
   },
   "outputs": [],
   "source": [
    "### Visualize your network's feature maps here.\n",
    "### Feel free to use as many code cells as needed.\n",
    "\n",
    "# image_input: the test image being fed into the network to produce the feature maps\n",
    "# tf_activation: should be a tf variable name used during your training procedure that represents the calculated state of a specific weight layer\n",
    "# activation_min/max: can be used to view the activation contrast in more detail, by default matplot sets min and max to the actual min and max values of the output\n",
    "# plt_num: used to plot out multiple different weight feature map sets on the same block, just extend the plt number for each new feature map entry\n",
    "\n",
    "def outputFeatureMap(image_input, tf_activation, activation_min=-1, activation_max=-1 ,plt_num=1):\n",
    "    # Here make sure to preprocess your image_input in a way your network expects\n",
    "    # with size, normalization, ect if needed\n",
    "    # image_input =\n",
    "    # Note: x should be the same name as your network's tensorflow data placeholder variable\n",
    "    # If you get an error tf_activation is not defined it may be having trouble accessing the variable from inside a function\n",
    "    activation = tf_activation.eval(session=sess,feed_dict={x : image_input})\n",
    "    featuremaps = activation.shape[3]\n",
    "    plt.figure(plt_num, figsize=(15,15))\n",
    "    for featuremap in range(featuremaps):\n",
    "        plt.subplot(6,8, featuremap+1) # sets the number of feature maps to show on each row and column\n",
    "        plt.title('FeatureMap ' + str(featuremap)) # displays the feature map number\n",
    "        if activation_min != -1 & activation_max != -1:\n",
    "            plt.imshow(activation[0,:,:, featuremap], interpolation=\"nearest\", vmin =activation_min, vmax=activation_max, cmap=\"gray\")\n",
    "        elif activation_max != -1:\n",
    "            plt.imshow(activation[0,:,:, featuremap], interpolation=\"nearest\", vmax=activation_max, cmap=\"gray\")\n",
    "        elif activation_min !=-1:\n",
    "            plt.imshow(activation[0,:,:, featuremap], interpolation=\"nearest\", vmin=activation_min, cmap=\"gray\")\n",
    "        else:\n",
    "            plt.imshow(activation[0,:,:, featuremap], interpolation=\"nearest\", cmap=\"gray\")"
   ]
  },
  {
   "cell_type": "code",
   "execution_count": null,
   "metadata": {
    "collapsed": true
   },
   "outputs": [],
   "source": []
  }
 ],
 "metadata": {
  "anaconda-cloud": {},
  "kernelspec": {
   "display_name": "Python 3",
   "language": "python",
   "name": "python3"
  },
  "language_info": {
   "codemirror_mode": {
    "name": "ipython",
    "version": 3
   },
   "file_extension": ".py",
   "mimetype": "text/x-python",
   "name": "python",
   "nbconvert_exporter": "python",
   "pygments_lexer": "ipython3",
   "version": "3.5.2"
  },
  "widgets": {
   "state": {},
   "version": "1.1.2"
  }
 },
 "nbformat": 4,
 "nbformat_minor": 1
}
